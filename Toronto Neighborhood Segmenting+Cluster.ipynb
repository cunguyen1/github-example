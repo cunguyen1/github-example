{
    "cells": [
        {
            "cell_type": "code",
            "execution_count": 1,
            "metadata": {},
            "outputs": [
                {
                    "name": "stdout",
                    "output_type": "stream",
                    "text": "Solving environment: done\n\n# All requested packages already installed.\n\nLibraries imported.\n"
                }
            ],
            "source": "import numpy as np # library to handle data in a vectorized manner\n\nimport pandas as pd # library for data analsysis\npd.set_option('display.max_columns', None)\npd.set_option('display.max_rows', None)\n\nimport json # library to handle JSON files\n\n#!conda install -c conda-forge geopy --yes # uncomment this line if you haven't completed the Foursquare API lab\nfrom geopy.geocoders import Nominatim # convert an address into latitude and longitude values\n\nimport requests # library to handle requests\nfrom pandas.io.json import json_normalize # tranform JSON file into a pandas dataframe\n\n# Matplotlib and associated plotting modules\nimport matplotlib.cm as cm\nimport matplotlib.colors as colors\n\n# import k-means from clustering stage\nfrom sklearn.cluster import KMeans\n\n!conda install -c conda-forge folium=0.5.0 --yes # uncomment this line if you haven't completed the Foursquare API lab\nimport folium # map rendering library\n\nprint('Libraries imported.')"
        },
        {
            "cell_type": "markdown",
            "metadata": {},
            "source": "# Part 1: Load and Create Dataframe from Wiki Page"
        },
        {
            "cell_type": "markdown",
            "metadata": {},
            "source": "### Create a list from the data on wiki page"
        },
        {
            "cell_type": "code",
            "execution_count": 401,
            "metadata": {},
            "outputs": [
                {
                    "ename": "AttributeError",
                    "evalue": "'list' object has no attribute 'head'",
                    "output_type": "error",
                    "traceback": [
                        "\u001b[0;31m---------------------------------------------------------------------------\u001b[0m",
                        "\u001b[0;31mAttributeError\u001b[0m                            Traceback (most recent call last)",
                        "\u001b[0;32m<ipython-input-401-ea0ae97841de>\u001b[0m in \u001b[0;36m<module>\u001b[0;34m\u001b[0m\n\u001b[1;32m      2\u001b[0m \u001b[0mpage\u001b[0m \u001b[0;34m=\u001b[0m \u001b[0;34m'https://en.wikipedia.org/wiki/List_of_postal_codes_of_Canada:_M'\u001b[0m\u001b[0;34m\u001b[0m\u001b[0;34m\u001b[0m\u001b[0m\n\u001b[1;32m      3\u001b[0m \u001b[0mtoronto_wiki\u001b[0m \u001b[0;34m=\u001b[0m \u001b[0mpd\u001b[0m\u001b[0;34m.\u001b[0m\u001b[0mread_html\u001b[0m\u001b[0;34m(\u001b[0m\u001b[0mpage\u001b[0m\u001b[0;34m,\u001b[0m \u001b[0mindex_col\u001b[0m\u001b[0;34m=\u001b[0m\u001b[0;36m0\u001b[0m\u001b[0;34m,\u001b[0m \u001b[0mattrs\u001b[0m\u001b[0;34m=\u001b[0m\u001b[0;34m{\u001b[0m\u001b[0;34m\"class\"\u001b[0m\u001b[0;34m:\u001b[0m\u001b[0;34m\"wikitable\"\u001b[0m\u001b[0;34m}\u001b[0m\u001b[0;34m)\u001b[0m\u001b[0;34m\u001b[0m\u001b[0;34m\u001b[0m\u001b[0m\n\u001b[0;32m----> 4\u001b[0;31m \u001b[0mtoronto_wiki\u001b[0m\u001b[0;34m.\u001b[0m\u001b[0mhead\u001b[0m\u001b[0;34m\u001b[0m\u001b[0;34m\u001b[0m\u001b[0m\n\u001b[0m",
                        "\u001b[0;31mAttributeError\u001b[0m: 'list' object has no attribute 'head'"
                    ]
                }
            ],
            "source": "import pandas as pd    \npage = 'https://en.wikipedia.org/wiki/List_of_postal_codes_of_Canada:_M'    \ntoronto_wiki = pd.read_html(page, index_col=0, attrs={\"class\":\"wikitable\"})     "
        },
        {
            "cell_type": "markdown",
            "metadata": {},
            "source": "### Place list's datas into a dataframe"
        },
        {
            "cell_type": "code",
            "execution_count": 283,
            "metadata": {},
            "outputs": [
                {
                    "data": {
                        "text/html": "<div>\n<style scoped>\n    .dataframe tbody tr th:only-of-type {\n        vertical-align: middle;\n    }\n\n    .dataframe tbody tr th {\n        vertical-align: top;\n    }\n\n    .dataframe thead th {\n        text-align: right;\n    }\n</style>\n<table border=\"1\" class=\"dataframe\">\n  <thead>\n    <tr style=\"text-align: right;\">\n      <th></th>\n      <th>Postcode</th>\n      <th>Borough</th>\n      <th>Neighbourhood</th>\n    </tr>\n  </thead>\n  <tbody>\n    <tr>\n      <th>0</th>\n      <td>M1A</td>\n      <td>Not assigned</td>\n      <td>Not assigned</td>\n    </tr>\n    <tr>\n      <th>1</th>\n      <td>M2A</td>\n      <td>Not assigned</td>\n      <td>Not assigned</td>\n    </tr>\n    <tr>\n      <th>2</th>\n      <td>M3A</td>\n      <td>North York</td>\n      <td>Parkwoods</td>\n    </tr>\n    <tr>\n      <th>3</th>\n      <td>M4A</td>\n      <td>North York</td>\n      <td>Victoria Village</td>\n    </tr>\n    <tr>\n      <th>4</th>\n      <td>M5A</td>\n      <td>Downtown Toronto</td>\n      <td>Harbourfront</td>\n    </tr>\n  </tbody>\n</table>\n</div>",
                        "text/plain": "  Postcode           Borough     Neighbourhood\n0      M1A      Not assigned      Not assigned\n1      M2A      Not assigned      Not assigned\n2      M3A        North York         Parkwoods\n3      M4A        North York  Victoria Village\n4      M5A  Downtown Toronto      Harbourfront"
                    },
                    "execution_count": 283,
                    "metadata": {},
                    "output_type": "execute_result"
                }
            ],
            "source": "toronto_wiki_df = pd.DataFrame()\ntoronto_wiki_df\n\nfor data in toronto_wiki:\n     toronto_wiki_df= toronto_wiki_df.append(data)\ntoronto_wiki_df=toronto_wiki_df.reset_index()\ntoronto_wiki_df.head()"
        },
        {
            "cell_type": "markdown",
            "metadata": {},
            "source": "### Rename \"Postcode\" to \"PostalCode\" and \"Neighbourhood\" to \"Neighborhood\""
        },
        {
            "cell_type": "code",
            "execution_count": 402,
            "metadata": {},
            "outputs": [
                {
                    "data": {
                        "text/html": "<div>\n<style scoped>\n    .dataframe tbody tr th:only-of-type {\n        vertical-align: middle;\n    }\n\n    .dataframe tbody tr th {\n        vertical-align: top;\n    }\n\n    .dataframe thead th {\n        text-align: right;\n    }\n</style>\n<table border=\"1\" class=\"dataframe\">\n  <thead>\n    <tr style=\"text-align: right;\">\n      <th></th>\n      <th>PostalCode</th>\n      <th>Borough</th>\n      <th>Neighborhood</th>\n    </tr>\n  </thead>\n  <tbody>\n    <tr>\n      <th>2</th>\n      <td>M3A</td>\n      <td>North York</td>\n      <td>Parkwoods</td>\n    </tr>\n    <tr>\n      <th>3</th>\n      <td>M4A</td>\n      <td>North York</td>\n      <td>Victoria Village</td>\n    </tr>\n    <tr>\n      <th>4</th>\n      <td>M5A</td>\n      <td>Downtown Toronto</td>\n      <td>Harbourfront</td>\n    </tr>\n    <tr>\n      <th>5</th>\n      <td>M6A</td>\n      <td>North York</td>\n      <td>Lawrence Heights</td>\n    </tr>\n    <tr>\n      <th>6</th>\n      <td>M6A</td>\n      <td>North York</td>\n      <td>Lawrence Manor</td>\n    </tr>\n  </tbody>\n</table>\n</div>",
                        "text/plain": "  PostalCode           Borough      Neighborhood\n2        M3A        North York         Parkwoods\n3        M4A        North York  Victoria Village\n4        M5A  Downtown Toronto      Harbourfront\n5        M6A        North York  Lawrence Heights\n6        M6A        North York    Lawrence Manor"
                    },
                    "execution_count": 402,
                    "metadata": {},
                    "output_type": "execute_result"
                }
            ],
            "source": "toronto_wiki_df=toronto_wiki_df.rename(columns={\"Postcode\": \"PostalCode\", \"Neighbourhood\": \"Neighborhood\"})\ntoronto_wiki_df.head()"
        },
        {
            "cell_type": "markdown",
            "metadata": {},
            "source": "### Turn any non-assigned borough into NaN then drop those data point that have NaN borough"
        },
        {
            "cell_type": "code",
            "execution_count": 285,
            "metadata": {},
            "outputs": [],
            "source": "toronto_wiki_df.loc[toronto_wiki_df['Borough'] == 'Not assigned','Borough'] = np.nan\ntoronto_wiki_df.dropna(inplace=True)"
        },
        {
            "cell_type": "markdown",
            "metadata": {},
            "source": "### Simplify the dataframe"
        },
        {
            "cell_type": "code",
            "execution_count": 286,
            "metadata": {},
            "outputs": [],
            "source": "toronto_neighborhoods=toronto_wiki_df.groupby('PostalCode').agg({'Borough':'first','Neighborhood': ', '.join})"
        },
        {
            "cell_type": "markdown",
            "metadata": {},
            "source": "### Reset index"
        },
        {
            "cell_type": "code",
            "execution_count": 403,
            "metadata": {},
            "outputs": [
                {
                    "data": {
                        "text/html": "<div>\n<style scoped>\n    .dataframe tbody tr th:only-of-type {\n        vertical-align: middle;\n    }\n\n    .dataframe tbody tr th {\n        vertical-align: top;\n    }\n\n    .dataframe thead th {\n        text-align: right;\n    }\n</style>\n<table border=\"1\" class=\"dataframe\">\n  <thead>\n    <tr style=\"text-align: right;\">\n      <th></th>\n      <th>index</th>\n      <th>PostalCode</th>\n      <th>Borough</th>\n      <th>Neighborhood</th>\n    </tr>\n  </thead>\n  <tbody>\n    <tr>\n      <th>0</th>\n      <td>0</td>\n      <td>M1B</td>\n      <td>Scarborough</td>\n      <td>Rouge, Malvern</td>\n    </tr>\n    <tr>\n      <th>1</th>\n      <td>1</td>\n      <td>M1C</td>\n      <td>Scarborough</td>\n      <td>Highland Creek, Rouge Hill, Port Union</td>\n    </tr>\n    <tr>\n      <th>2</th>\n      <td>2</td>\n      <td>M1E</td>\n      <td>Scarborough</td>\n      <td>Guildwood, Morningside, West Hill</td>\n    </tr>\n    <tr>\n      <th>3</th>\n      <td>3</td>\n      <td>M1G</td>\n      <td>Scarborough</td>\n      <td>Woburn</td>\n    </tr>\n    <tr>\n      <th>4</th>\n      <td>4</td>\n      <td>M1H</td>\n      <td>Scarborough</td>\n      <td>Cedarbrae</td>\n    </tr>\n  </tbody>\n</table>\n</div>",
                        "text/plain": "   index PostalCode      Borough                            Neighborhood\n0      0        M1B  Scarborough                          Rouge, Malvern\n1      1        M1C  Scarborough  Highland Creek, Rouge Hill, Port Union\n2      2        M1E  Scarborough       Guildwood, Morningside, West Hill\n3      3        M1G  Scarborough                                  Woburn\n4      4        M1H  Scarborough                               Cedarbrae"
                    },
                    "execution_count": 403,
                    "metadata": {},
                    "output_type": "execute_result"
                }
            ],
            "source": "toronto_neighborhoods=toronto_neighborhoods.reset_index() \ntoronto_neighborhoods.head()"
        },
        {
            "cell_type": "code",
            "execution_count": 289,
            "metadata": {},
            "outputs": [
                {
                    "data": {
                        "text/plain": "(103, 3)"
                    },
                    "execution_count": 289,
                    "metadata": {},
                    "output_type": "execute_result"
                }
            ],
            "source": "toronto_neighborhoods.shape"
        },
        {
            "cell_type": "markdown",
            "metadata": {},
            "source": ""
        },
        {
            "cell_type": "markdown",
            "metadata": {},
            "source": ""
        },
        {
            "cell_type": "markdown",
            "metadata": {},
            "source": "## Part 2: Geographical Coordinates "
        },
        {
            "cell_type": "code",
            "execution_count": 404,
            "metadata": {},
            "outputs": [
                {
                    "data": {
                        "text/html": "<div>\n<style scoped>\n    .dataframe tbody tr th:only-of-type {\n        vertical-align: middle;\n    }\n\n    .dataframe tbody tr th {\n        vertical-align: top;\n    }\n\n    .dataframe thead th {\n        text-align: right;\n    }\n</style>\n<table border=\"1\" class=\"dataframe\">\n  <thead>\n    <tr style=\"text-align: right;\">\n      <th></th>\n      <th>Postal Code</th>\n      <th>Latitude</th>\n      <th>Longitude</th>\n    </tr>\n  </thead>\n  <tbody>\n    <tr>\n      <th>0</th>\n      <td>M1B</td>\n      <td>43.806686</td>\n      <td>-79.194353</td>\n    </tr>\n    <tr>\n      <th>1</th>\n      <td>M1C</td>\n      <td>43.784535</td>\n      <td>-79.160497</td>\n    </tr>\n    <tr>\n      <th>2</th>\n      <td>M1E</td>\n      <td>43.763573</td>\n      <td>-79.188711</td>\n    </tr>\n    <tr>\n      <th>3</th>\n      <td>M1G</td>\n      <td>43.770992</td>\n      <td>-79.216917</td>\n    </tr>\n    <tr>\n      <th>4</th>\n      <td>M1H</td>\n      <td>43.773136</td>\n      <td>-79.239476</td>\n    </tr>\n  </tbody>\n</table>\n</div>",
                        "text/plain": "  Postal Code   Latitude  Longitude\n0         M1B  43.806686 -79.194353\n1         M1C  43.784535 -79.160497\n2         M1E  43.763573 -79.188711\n3         M1G  43.770992 -79.216917\n4         M1H  43.773136 -79.239476"
                    },
                    "execution_count": 404,
                    "metadata": {},
                    "output_type": "execute_result"
                }
            ],
            "source": "geo_data=pd.read_csv(\"http://cocl.us/Geospatial_data\")\ngeo_data.head()"
        },
        {
            "cell_type": "code",
            "execution_count": null,
            "metadata": {},
            "outputs": [],
            "source": ""
        },
        {
            "cell_type": "code",
            "execution_count": null,
            "metadata": {},
            "outputs": [],
            "source": ""
        },
        {
            "cell_type": "code",
            "execution_count": null,
            "metadata": {},
            "outputs": [],
            "source": ""
        },
        {
            "cell_type": "code",
            "execution_count": 376,
            "metadata": {},
            "outputs": [
                {
                    "data": {
                        "text/html": "<div>\n<style scoped>\n    .dataframe tbody tr th:only-of-type {\n        vertical-align: middle;\n    }\n\n    .dataframe tbody tr th {\n        vertical-align: top;\n    }\n\n    .dataframe thead th {\n        text-align: right;\n    }\n</style>\n<table border=\"1\" class=\"dataframe\">\n  <thead>\n    <tr style=\"text-align: right;\">\n      <th></th>\n      <th>Borough</th>\n      <th>Neighborhood</th>\n    </tr>\n    <tr>\n      <th>PostalCode</th>\n      <th></th>\n      <th></th>\n    </tr>\n  </thead>\n  <tbody>\n    <tr>\n      <th>M1B</th>\n      <td>Scarborough</td>\n      <td>Rouge, Malvern</td>\n    </tr>\n    <tr>\n      <th>M3A</th>\n      <td>North York</td>\n      <td>Parkwoods</td>\n    </tr>\n    <tr>\n      <th>M3B</th>\n      <td>North York</td>\n      <td>Don Mills North</td>\n    </tr>\n    <tr>\n      <th>M4A</th>\n      <td>North York</td>\n      <td>Victoria Village</td>\n    </tr>\n    <tr>\n      <th>M5A</th>\n      <td>Downtown Toronto</td>\n      <td>Harbourfront</td>\n    </tr>\n    <tr>\n      <th>M6A</th>\n      <td>North York</td>\n      <td>Lawrence Heights, Lawrence Manor</td>\n    </tr>\n    <tr>\n      <th>M7A</th>\n      <td>Downtown Toronto</td>\n      <td>Queen's Park</td>\n    </tr>\n    <tr>\n      <th>M9A</th>\n      <td>Etobicoke</td>\n      <td>Islington Avenue</td>\n    </tr>\n  </tbody>\n</table>\n</div>",
                        "text/plain": "                     Borough                      Neighborhood\nPostalCode                                                    \nM1B              Scarborough                    Rouge, Malvern\nM3A               North York                         Parkwoods\nM3B               North York                   Don Mills North\nM4A               North York                  Victoria Village\nM5A         Downtown Toronto                      Harbourfront\nM6A               North York  Lawrence Heights, Lawrence Manor\nM7A         Downtown Toronto                      Queen's Park\nM9A                Etobicoke                  Islington Avenue"
                    },
                    "execution_count": 376,
                    "metadata": {},
                    "output_type": "execute_result"
                }
            ],
            "source": "toronto2=toronto.groupby('PostalCode').agg({'Borough':'first','Neighborhood': ', '.join})\ntoronto2"
        },
        {
            "cell_type": "code",
            "execution_count": 377,
            "metadata": {},
            "outputs": [
                {
                    "data": {
                        "text/html": "<div>\n<style scoped>\n    .dataframe tbody tr th:only-of-type {\n        vertical-align: middle;\n    }\n\n    .dataframe tbody tr th {\n        vertical-align: top;\n    }\n\n    .dataframe thead th {\n        text-align: right;\n    }\n</style>\n<table border=\"1\" class=\"dataframe\">\n  <thead>\n    <tr style=\"text-align: right;\">\n      <th></th>\n      <th>PostalCode</th>\n      <th>Borough</th>\n      <th>Neighborhood</th>\n    </tr>\n  </thead>\n  <tbody>\n    <tr>\n      <th>0</th>\n      <td>M1B</td>\n      <td>Scarborough</td>\n      <td>Rouge, Malvern</td>\n    </tr>\n    <tr>\n      <th>1</th>\n      <td>M3A</td>\n      <td>North York</td>\n      <td>Parkwoods</td>\n    </tr>\n    <tr>\n      <th>2</th>\n      <td>M3B</td>\n      <td>North York</td>\n      <td>Don Mills North</td>\n    </tr>\n    <tr>\n      <th>3</th>\n      <td>M4A</td>\n      <td>North York</td>\n      <td>Victoria Village</td>\n    </tr>\n    <tr>\n      <th>4</th>\n      <td>M5A</td>\n      <td>Downtown Toronto</td>\n      <td>Harbourfront</td>\n    </tr>\n    <tr>\n      <th>5</th>\n      <td>M6A</td>\n      <td>North York</td>\n      <td>Lawrence Heights, Lawrence Manor</td>\n    </tr>\n    <tr>\n      <th>6</th>\n      <td>M7A</td>\n      <td>Downtown Toronto</td>\n      <td>Queen's Park</td>\n    </tr>\n    <tr>\n      <th>7</th>\n      <td>M9A</td>\n      <td>Etobicoke</td>\n      <td>Islington Avenue</td>\n    </tr>\n  </tbody>\n</table>\n</div>",
                        "text/plain": "  PostalCode           Borough                      Neighborhood\n0        M1B       Scarborough                    Rouge, Malvern\n1        M3A        North York                         Parkwoods\n2        M3B        North York                   Don Mills North\n3        M4A        North York                  Victoria Village\n4        M5A  Downtown Toronto                      Harbourfront\n5        M6A        North York  Lawrence Heights, Lawrence Manor\n6        M7A  Downtown Toronto                      Queen's Park\n7        M9A         Etobicoke                  Islington Avenue"
                    },
                    "execution_count": 377,
                    "metadata": {},
                    "output_type": "execute_result"
                }
            ],
            "source": "toronto2=toronto2.reset_index()\ntoronto2"
        },
        {
            "cell_type": "code",
            "execution_count": 379,
            "metadata": {},
            "outputs": [],
            "source": "toronto3=toronto.groupby('PostalCode').agg({'Borough':'first','Neighborhood': ', '.join})\n"
        },
        {
            "cell_type": "code",
            "execution_count": 336,
            "metadata": {},
            "outputs": [
                {
                    "data": {
                        "text/html": "<div>\n<style scoped>\n    .dataframe tbody tr th:only-of-type {\n        vertical-align: middle;\n    }\n\n    .dataframe tbody tr th {\n        vertical-align: top;\n    }\n\n    .dataframe thead th {\n        text-align: right;\n    }\n</style>\n<table border=\"1\" class=\"dataframe\">\n  <thead>\n    <tr style=\"text-align: right;\">\n      <th></th>\n      <th>Latitude</th>\n      <th>Longitude</th>\n    </tr>\n  </thead>\n  <tbody>\n    <tr>\n      <th>25</th>\n      <td>43.753259</td>\n      <td>-79.329656</td>\n    </tr>\n  </tbody>\n</table>\n</div>",
                        "text/plain": "     Latitude  Longitude\n25  43.753259 -79.329656"
                    },
                    "execution_count": 336,
                    "metadata": {},
                    "output_type": "execute_result"
                }
            ],
            "source": "a=geo_data.loc[geo_data['Postal Code']==\"M3A\", ['Latitude','Longitude']]\na"
        },
        {
            "cell_type": "code",
            "execution_count": 399,
            "metadata": {},
            "outputs": [
                {
                    "data": {
                        "text/html": "<div>\n<style scoped>\n    .dataframe tbody tr th:only-of-type {\n        vertical-align: middle;\n    }\n\n    .dataframe tbody tr th {\n        vertical-align: top;\n    }\n\n    .dataframe thead th {\n        text-align: right;\n    }\n</style>\n<table border=\"1\" class=\"dataframe\">\n  <thead>\n    <tr style=\"text-align: right;\">\n      <th></th>\n      <th>PostalCode</th>\n      <th>Borough</th>\n      <th>Neighborhood</th>\n    </tr>\n  </thead>\n  <tbody>\n    <tr>\n      <th>0</th>\n      <td>M1B</td>\n      <td>Scarborough</td>\n      <td>Rouge, Malvern</td>\n    </tr>\n    <tr>\n      <th>1</th>\n      <td>M3A</td>\n      <td>North York</td>\n      <td>Parkwoods</td>\n    </tr>\n    <tr>\n      <th>2</th>\n      <td>M3B</td>\n      <td>North York</td>\n      <td>Don Mills North</td>\n    </tr>\n    <tr>\n      <th>3</th>\n      <td>M4A</td>\n      <td>North York</td>\n      <td>Victoria Village</td>\n    </tr>\n    <tr>\n      <th>4</th>\n      <td>M5A</td>\n      <td>Downtown Toronto</td>\n      <td>Harbourfront</td>\n    </tr>\n    <tr>\n      <th>5</th>\n      <td>M6A</td>\n      <td>North York</td>\n      <td>Lawrence Heights, Lawrence Manor</td>\n    </tr>\n    <tr>\n      <th>6</th>\n      <td>M7A</td>\n      <td>Downtown Toronto</td>\n      <td>Queen's Park</td>\n    </tr>\n    <tr>\n      <th>7</th>\n      <td>M9A</td>\n      <td>Etobicoke</td>\n      <td>Islington Avenue</td>\n    </tr>\n  </tbody>\n</table>\n</div>",
                        "text/plain": "  PostalCode           Borough                      Neighborhood\n0        M1B       Scarborough                    Rouge, Malvern\n1        M3A        North York                         Parkwoods\n2        M3B        North York                   Don Mills North\n3        M4A        North York                  Victoria Village\n4        M5A  Downtown Toronto                      Harbourfront\n5        M6A        North York  Lawrence Heights, Lawrence Manor\n6        M7A  Downtown Toronto                      Queen's Park\n7        M9A         Etobicoke                  Islington Avenue"
                    },
                    "execution_count": 399,
                    "metadata": {},
                    "output_type": "execute_result"
                }
            ],
            "source": "toronto3=toronto2\ntoronto2\n"
        },
        {
            "cell_type": "code",
            "execution_count": 397,
            "metadata": {},
            "outputs": [
                {
                    "data": {
                        "text/html": "<div>\n<style scoped>\n    .dataframe tbody tr th:only-of-type {\n        vertical-align: middle;\n    }\n\n    .dataframe tbody tr th {\n        vertical-align: top;\n    }\n\n    .dataframe thead th {\n        text-align: right;\n    }\n</style>\n<table border=\"1\" class=\"dataframe\">\n  <thead>\n    <tr style=\"text-align: right;\">\n      <th></th>\n      <th>PostalCode</th>\n      <th>Borough</th>\n      <th>Neighborhood</th>\n      <th>Latitude</th>\n      <th>Longitude</th>\n    </tr>\n  </thead>\n  <tbody>\n    <tr>\n      <th>0</th>\n      <td>M1B</td>\n      <td>Scarborough</td>\n      <td>Rouge, Malvern</td>\n      <td>NaN</td>\n      <td>NaN</td>\n    </tr>\n    <tr>\n      <th>1</th>\n      <td>M3A</td>\n      <td>North York</td>\n      <td>Parkwoods</td>\n      <td>NaN</td>\n      <td>NaN</td>\n    </tr>\n    <tr>\n      <th>2</th>\n      <td>M3B</td>\n      <td>North York</td>\n      <td>Don Mills North</td>\n      <td>NaN</td>\n      <td>NaN</td>\n    </tr>\n    <tr>\n      <th>3</th>\n      <td>M4A</td>\n      <td>North York</td>\n      <td>Victoria Village</td>\n      <td>NaN</td>\n      <td>NaN</td>\n    </tr>\n    <tr>\n      <th>4</th>\n      <td>M5A</td>\n      <td>Downtown Toronto</td>\n      <td>Harbourfront</td>\n      <td>NaN</td>\n      <td>NaN</td>\n    </tr>\n    <tr>\n      <th>5</th>\n      <td>M6A</td>\n      <td>North York</td>\n      <td>Lawrence Heights, Lawrence Manor</td>\n      <td>NaN</td>\n      <td>NaN</td>\n    </tr>\n    <tr>\n      <th>6</th>\n      <td>M7A</td>\n      <td>Downtown Toronto</td>\n      <td>Queen's Park</td>\n      <td>NaN</td>\n      <td>NaN</td>\n    </tr>\n    <tr>\n      <th>7</th>\n      <td>M9A</td>\n      <td>Etobicoke</td>\n      <td>Islington Avenue</td>\n      <td>NaN</td>\n      <td>NaN</td>\n    </tr>\n  </tbody>\n</table>\n</div>",
                        "text/plain": "  PostalCode           Borough                      Neighborhood Latitude  \\\n0        M1B       Scarborough                    Rouge, Malvern      NaN   \n1        M3A        North York                         Parkwoods      NaN   \n2        M3B        North York                   Don Mills North      NaN   \n3        M4A        North York                  Victoria Village      NaN   \n4        M5A  Downtown Toronto                      Harbourfront      NaN   \n5        M6A        North York  Lawrence Heights, Lawrence Manor      NaN   \n6        M7A  Downtown Toronto                      Queen's Park      NaN   \n7        M9A         Etobicoke                  Islington Avenue      NaN   \n\n  Longitude  \n0       NaN  \n1       NaN  \n2       NaN  \n3       NaN  \n4       NaN  \n5       NaN  \n6       NaN  \n7       NaN  "
                    },
                    "execution_count": 397,
                    "metadata": {},
                    "output_type": "execute_result"
                }
            ],
            "source": "c=pd.DataFrame(columns=[\"Latitude\",\"Longitude\"])\ntoronto3 = pd.concat([toronto3, c], axis=1, sort=False)\ntoronto3"
        },
        {
            "cell_type": "code",
            "execution_count": 398,
            "metadata": {},
            "outputs": [
                {
                    "name": "stdout",
                    "output_type": "stream",
                    "text": "M1B\n  PostalCode           Borough                      Neighborhood Latitude  \\\n0        M1B       Scarborough                    Rouge, Malvern  43.8067   \n1        M3A        North York                         Parkwoods      NaN   \n2        M3B        North York                   Don Mills North      NaN   \n3        M4A        North York                  Victoria Village      NaN   \n4        M5A  Downtown Toronto                      Harbourfront      NaN   \n5        M6A        North York  Lawrence Heights, Lawrence Manor      NaN   \n6        M7A  Downtown Toronto                      Queen's Park      NaN   \n7        M9A         Etobicoke                  Islington Avenue      NaN   \n\n  Longitude  \n0  -79.1944  \n1       NaN  \n2       NaN  \n3       NaN  \n4       NaN  \n5       NaN  \n6       NaN  \n7       NaN  \nM3A\n  PostalCode           Borough                      Neighborhood Latitude  \\\n0        M1B       Scarborough                    Rouge, Malvern  43.8067   \n1        M3A        North York                         Parkwoods      NaN   \n2        M3B        North York                   Don Mills North      NaN   \n3        M4A        North York                  Victoria Village      NaN   \n4        M5A  Downtown Toronto                      Harbourfront      NaN   \n5        M6A        North York  Lawrence Heights, Lawrence Manor      NaN   \n6        M7A  Downtown Toronto                      Queen's Park      NaN   \n7        M9A         Etobicoke                  Islington Avenue      NaN   \n\n  Longitude  \n0  -79.1944  \n1       NaN  \n2       NaN  \n3       NaN  \n4       NaN  \n5       NaN  \n6       NaN  \n7       NaN  \nM3B\n  PostalCode           Borough                      Neighborhood Latitude  \\\n0        M1B       Scarborough                    Rouge, Malvern  43.8067   \n1        M3A        North York                         Parkwoods      NaN   \n2        M3B        North York                   Don Mills North      NaN   \n3        M4A        North York                  Victoria Village      NaN   \n4        M5A  Downtown Toronto                      Harbourfront      NaN   \n5        M6A        North York  Lawrence Heights, Lawrence Manor      NaN   \n6        M7A  Downtown Toronto                      Queen's Park      NaN   \n7        M9A         Etobicoke                  Islington Avenue      NaN   \n\n  Longitude  \n0  -79.1944  \n1       NaN  \n2       NaN  \n3       NaN  \n4       NaN  \n5       NaN  \n6       NaN  \n7       NaN  \nM4A\n  PostalCode           Borough                      Neighborhood Latitude  \\\n0        M1B       Scarborough                    Rouge, Malvern  43.8067   \n1        M3A        North York                         Parkwoods      NaN   \n2        M3B        North York                   Don Mills North      NaN   \n3        M4A        North York                  Victoria Village      NaN   \n4        M5A  Downtown Toronto                      Harbourfront      NaN   \n5        M6A        North York  Lawrence Heights, Lawrence Manor      NaN   \n6        M7A  Downtown Toronto                      Queen's Park      NaN   \n7        M9A         Etobicoke                  Islington Avenue      NaN   \n\n  Longitude  \n0  -79.1944  \n1       NaN  \n2       NaN  \n3       NaN  \n4       NaN  \n5       NaN  \n6       NaN  \n7       NaN  \nM5A\n  PostalCode           Borough                      Neighborhood Latitude  \\\n0        M1B       Scarborough                    Rouge, Malvern  43.8067   \n1        M3A        North York                         Parkwoods      NaN   \n2        M3B        North York                   Don Mills North      NaN   \n3        M4A        North York                  Victoria Village      NaN   \n4        M5A  Downtown Toronto                      Harbourfront      NaN   \n5        M6A        North York  Lawrence Heights, Lawrence Manor      NaN   \n6        M7A  Downtown Toronto                      Queen's Park      NaN   \n7        M9A         Etobicoke                  Islington Avenue      NaN   \n\n  Longitude  \n0  -79.1944  \n1       NaN  \n2       NaN  \n3       NaN  \n4       NaN  \n5       NaN  \n6       NaN  \n7       NaN  \nM6A\n  PostalCode           Borough                      Neighborhood Latitude  \\\n0        M1B       Scarborough                    Rouge, Malvern  43.8067   \n1        M3A        North York                         Parkwoods      NaN   \n2        M3B        North York                   Don Mills North      NaN   \n3        M4A        North York                  Victoria Village      NaN   \n4        M5A  Downtown Toronto                      Harbourfront      NaN   \n5        M6A        North York  Lawrence Heights, Lawrence Manor      NaN   \n6        M7A  Downtown Toronto                      Queen's Park      NaN   \n7        M9A         Etobicoke                  Islington Avenue      NaN   \n\n  Longitude  \n0  -79.1944  \n1       NaN  \n2       NaN  \n3       NaN  \n4       NaN  \n5       NaN  \n6       NaN  \n7       NaN  \nM7A\n  PostalCode           Borough                      Neighborhood Latitude  \\\n0        M1B       Scarborough                    Rouge, Malvern  43.8067   \n1        M3A        North York                         Parkwoods      NaN   \n2        M3B        North York                   Don Mills North      NaN   \n3        M4A        North York                  Victoria Village      NaN   \n4        M5A  Downtown Toronto                      Harbourfront      NaN   \n5        M6A        North York  Lawrence Heights, Lawrence Manor      NaN   \n6        M7A  Downtown Toronto                      Queen's Park      NaN   \n7        M9A         Etobicoke                  Islington Avenue      NaN   \n\n  Longitude  \n0  -79.1944  \n1       NaN  \n2       NaN  \n3       NaN  \n4       NaN  \n5       NaN  \n6       NaN  \n7       NaN  \nM9A\n  PostalCode           Borough                      Neighborhood Latitude  \\\n0        M1B       Scarborough                    Rouge, Malvern  43.8067   \n1        M3A        North York                         Parkwoods      NaN   \n2        M3B        North York                   Don Mills North      NaN   \n3        M4A        North York                  Victoria Village      NaN   \n4        M5A  Downtown Toronto                      Harbourfront      NaN   \n5        M6A        North York  Lawrence Heights, Lawrence Manor      NaN   \n6        M7A  Downtown Toronto                      Queen's Park      NaN   \n7        M9A         Etobicoke                  Islington Avenue      NaN   \n\n  Longitude  \n0  -79.1944  \n1       NaN  \n2       NaN  \n3       NaN  \n4       NaN  \n5       NaN  \n6       NaN  \n7       NaN  \n"
                }
            ],
            "source": "for data in toronto3[\"PostalCode\"]:\n    print(data)\n    lat=geo_data.loc[geo_data['Postal Code']==data, ['Latitude','Longitude']]\n    toronto3.loc[toronto3['PostalCode']==data, ['Latitude','Longitude']]=lat\n    print(toronto3)"
        },
        {
            "cell_type": "code",
            "execution_count": 343,
            "metadata": {},
            "outputs": [
                {
                    "data": {
                        "text/plain": "93    43.667856\nName: Latitude, dtype: float64"
                    },
                    "execution_count": 343,
                    "metadata": {},
                    "output_type": "execute_result"
                }
            ],
            "source": "lat[\"Latitude\"]"
        },
        {
            "cell_type": "code",
            "execution_count": null,
            "metadata": {},
            "outputs": [],
            "source": ""
        },
        {
            "cell_type": "code",
            "execution_count": 369,
            "metadata": {},
            "outputs": [
                {
                    "data": {
                        "text/html": "<div>\n<style scoped>\n    .dataframe tbody tr th:only-of-type {\n        vertical-align: middle;\n    }\n\n    .dataframe tbody tr th {\n        vertical-align: top;\n    }\n\n    .dataframe thead th {\n        text-align: right;\n    }\n</style>\n<table border=\"1\" class=\"dataframe\">\n  <thead>\n    <tr style=\"text-align: right;\">\n      <th></th>\n      <th>PostalCode</th>\n      <th>Borough</th>\n      <th>Neighborhood</th>\n      <th>Latitude</th>\n      <th>Longitude</th>\n    </tr>\n  </thead>\n  <tbody>\n    <tr>\n      <th>0</th>\n      <td>M1B</td>\n      <td>Scarborough</td>\n      <td>Rouge, Malvern</td>\n      <td>43.806686</td>\n      <td>-79.194353</td>\n    </tr>\n    <tr>\n      <th>1</th>\n      <td>M3A</td>\n      <td>North York</td>\n      <td>Parkwoods</td>\n      <td>NaN</td>\n      <td>NaN</td>\n    </tr>\n    <tr>\n      <th>2</th>\n      <td>M3B</td>\n      <td>North York</td>\n      <td>Don Mills North</td>\n      <td>NaN</td>\n      <td>NaN</td>\n    </tr>\n    <tr>\n      <th>3</th>\n      <td>M4A</td>\n      <td>North York</td>\n      <td>Victoria Village</td>\n      <td>NaN</td>\n      <td>NaN</td>\n    </tr>\n    <tr>\n      <th>4</th>\n      <td>M5A</td>\n      <td>Downtown Toronto</td>\n      <td>Harbourfront</td>\n      <td>NaN</td>\n      <td>NaN</td>\n    </tr>\n    <tr>\n      <th>5</th>\n      <td>M6A</td>\n      <td>North York</td>\n      <td>Lawrence Heights, Lawrence Manor</td>\n      <td>NaN</td>\n      <td>NaN</td>\n    </tr>\n    <tr>\n      <th>6</th>\n      <td>M7A</td>\n      <td>Downtown Toronto</td>\n      <td>Queen's Park</td>\n      <td>NaN</td>\n      <td>NaN</td>\n    </tr>\n    <tr>\n      <th>7</th>\n      <td>M9A</td>\n      <td>Etobicoke</td>\n      <td>Islington Avenue</td>\n      <td>NaN</td>\n      <td>NaN</td>\n    </tr>\n  </tbody>\n</table>\n</div>",
                        "text/plain": "  PostalCode           Borough                      Neighborhood   Latitude  \\\n0        M1B       Scarborough                    Rouge, Malvern  43.806686   \n1        M3A        North York                         Parkwoods        NaN   \n2        M3B        North York                   Don Mills North        NaN   \n3        M4A        North York                  Victoria Village        NaN   \n4        M5A  Downtown Toronto                      Harbourfront        NaN   \n5        M6A        North York  Lawrence Heights, Lawrence Manor        NaN   \n6        M7A  Downtown Toronto                      Queen's Park        NaN   \n7        M9A         Etobicoke                  Islington Avenue        NaN   \n\n   Longitude  \n0 -79.194353  \n1        NaN  \n2        NaN  \n3        NaN  \n4        NaN  \n5        NaN  \n6        NaN  \n7        NaN  "
                    },
                    "execution_count": 369,
                    "metadata": {},
                    "output_type": "execute_result"
                }
            ],
            "source": "toronto3"
        }
    ],
    "metadata": {
        "kernelspec": {
            "display_name": "Python 3.6",
            "language": "python",
            "name": "python3"
        }
    },
    "nbformat": 4,
    "nbformat_minor": 1
}